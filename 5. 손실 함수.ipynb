{
 "cells": [
  {
   "cell_type": "markdown",
   "id": "e2ac21b7",
   "metadata": {},
   "source": [
    "# 5.1 평균 제곱 오차\n",
    "\n",
    "우리가 가지고 있는 모델을 통해 알 수 없는 함수 f*를 근사계산 하고 싶을 때, 어떤 방법을 통해 근사계산을 잘 하고 있는지 판단할 수 있을까  \n",
    "-> 가장 간단한 방법은 해당 모델에 수집한 데이터로 입력을 넣었을 때 원하는 출력이 나오는지 확인하는 것\n",
    "\n",
    "이때 모델에서 반환한 출력은 원하는 출력이 아닌 다른 값을 반환할 것 이다.  \n",
    "\n",
    "원하는 출력값과 모델이 반환한 출력값을 비교해서 차이가 적을 수록 좋은 모델이라고 판단한다. 수식은 다음과 같다."
   ]
  },
  {
   "cell_type": "markdown",
   "id": "085d26b7",
   "metadata": {},
   "source": [
    "<img src = \"평균제곱오차1.jpg\" width = \"300\" height = \"300\">"
   ]
  },
  {
   "cell_type": "markdown",
   "id": "9c2bbcd8",
   "metadata": {},
   "source": [
    "앞의 수식에서 y^와 y사이 간 차이의 크기를 더한 것을 \"손실값\" 이라고 부른다.  \n",
    "따라서 손실 값이 작을수록 해당 모델은 근사계산하고자 하는 함수 f*를 잘 근사계산 하고있다 라고 판단한다."
   ]
  },
  {
   "cell_type": "markdown",
   "id": "00f3068e",
   "metadata": {},
   "source": [
    "손실 값을 최소화 하는 모델을 찾는 방법은 모델 가중치 파라미터의 값을 랜덤하게 바꿔보는 것 이다.  \n",
    "그럼 모델의 동작이 바뀌면서 입력에 대한 출력 y^이 바뀌고, 손실 값도 바뀌게 된다.  \n",
    "이전보다 손실값이 더 줄었다면 더 좋은 가중치 파라미터를 찾았다고 할 수 있다.  \n",
    "\n",
    "모델의 가중치 파라미터가 바뀌면 손실 값이 바뀌기 때문에 가중치 파라미터를 함수 입력으로 주고 손실 값을 출력으로 반환하도록 만든 함수가 \"손실 함수\" 이다. 수식은 다음과 같다."
   ]
  },
  {
   "cell_type": "markdown",
   "id": "a983855d",
   "metadata": {},
   "source": [
    "<img src = \"평균제곱오차2.jpg\" width = \"300\" height = \"300\">"
   ]
  },
  {
   "cell_type": "markdown",
   "id": "eb3c9d25",
   "metadata": {},
   "source": [
    "### 1. 손실 함수 선택"
   ]
  },
  {
   "cell_type": "markdown",
   "id": "b23af799",
   "metadata": {},
   "source": [
    "L1 노름(norm)이란, n차원 벡터의 각 요소들 사이에 대한 절댓값을 모두 더한 것 이다.  \n",
    "수식은 다음과 같다.\n",
    "\n",
    "<img src = \"손실함수선택1.jpg\" width = \"300\" height = \"300\">"
   ]
  },
  {
   "cell_type": "markdown",
   "id": "396a47c4",
   "metadata": {},
   "source": [
    "L2 노름(norm)이란, 유클리디안 거리로도 잘 알려져 있는 두 점 사이의 거리를 계산 하는 방법이다.  \n",
    "따라서 손실 함수에 L2 노름을 잘 활용하면 정답과 모델 출력 사이의 거리를 최소화 한다고 볼 수 있다.   \n",
    "\n",
    "L2노름은 벡터들 각 요소들 간 차이에 대해 제곱을 구해 더한 것이다.  \n",
    "수식은 다음과 같다. "
   ]
  },
  {
   "cell_type": "markdown",
   "id": "298ad57c",
   "metadata": {},
   "source": [
    "<img src = \"손실함수선택2.jpg\" width = \"300\" height = \"300\">"
   ]
  },
  {
   "cell_type": "markdown",
   "id": "f082c0ef",
   "metadata": {},
   "source": [
    "제곱근 평균 제곱 오차(Root Mean Squared Error, RMSE)는 L2 노름과 유사하지만, 제곱근을 구하기 전에 벡터의 차원 크기인 n으로 나누어 평균을 취하는 것이 특징이다.  \n",
    "수식은 다음과 같다."
   ]
  },
  {
   "cell_type": "markdown",
   "id": "d536f8fb",
   "metadata": {},
   "source": [
    "<img src = \"손실함수선택3.jpg\" width = \"400\" height = \"400\">"
   ]
  },
  {
   "cell_type": "markdown",
   "id": "69831d9d",
   "metadata": {},
   "source": [
    "평군 제곱 오차(Mean Squared Error, MSE)는 RMSE에 제곱을 취한 것과 같다.  \n",
    "수식은 다음과 같다."
   ]
  },
  {
   "cell_type": "markdown",
   "id": "ef96fb54",
   "metadata": {},
   "source": [
    "<img src = \"손실함수선택4.jpg\" width = \"300\" height = \"300\">"
   ]
  },
  {
   "cell_type": "markdown",
   "id": "5ece4d16",
   "metadata": {},
   "source": [
    "흔히 MSE와 L2노름의 제곱을 혼용하여 표기하기도 한다.  \n",
    "만약 MSE를 손실함수로 활용하게 되면, 다음과 같이 손실 함수가 최종적으로 정의될 수 있을 것이다."
   ]
  },
  {
   "cell_type": "markdown",
   "id": "1f7afcdd",
   "metadata": {},
   "source": [
    "<img src = \"손실함수선택5.jpg\" width = \"300\" height = \"300\">"
   ]
  },
  {
   "cell_type": "markdown",
   "id": "30e6758c",
   "metadata": {},
   "source": [
    "# 5.2 MSE Loss"
   ]
  },
  {
   "cell_type": "code",
   "execution_count": 4,
   "id": "ed08e325",
   "metadata": {},
   "outputs": [],
   "source": [
    "import torch\n",
    "\n",
    "def mse(x_hat, x):\n",
    "    # |x_hat| = (batch_size, dim)\n",
    "    # |x| = (batch_size, dim)\n",
    "    y = ((x-x_hat)**2).mean()\n",
    "    \n",
    "    return y"
   ]
  },
  {
   "cell_type": "code",
   "execution_count": 5,
   "id": "6df1d8c7",
   "metadata": {},
   "outputs": [
    {
     "name": "stdout",
     "output_type": "stream",
     "text": [
      "tensor(2.5000)\n"
     ]
    }
   ],
   "source": [
    "x = torch.FloatTensor([[1,1],\n",
    "                       [2,2]])\n",
    "x_hat = torch.FloatTensor([[0,0],\n",
    "                           [0,0]])\n",
    "print(mse(x_hat, x))"
   ]
  },
  {
   "cell_type": "markdown",
   "id": "fde32199",
   "metadata": {},
   "source": [
    "### 1. torch.nn.functional 사용하기"
   ]
  },
  {
   "cell_type": "code",
   "execution_count": 6,
   "id": "409e0b66",
   "metadata": {},
   "outputs": [
    {
     "data": {
      "text/plain": [
       "tensor(2.5000)"
      ]
     },
     "execution_count": 6,
     "metadata": {},
     "output_type": "execute_result"
    }
   ],
   "source": [
    "import torch.nn.functional as F\n",
    "F.mse_loss(x_hat, x)"
   ]
  },
  {
   "cell_type": "markdown",
   "id": "73dc2f06",
   "metadata": {},
   "source": [
    "해당 함수는 reduction이라는 인자를 통해 MSE 손실값을 구할 때 차원 감소 연산(e.g. 평균)에 대한 설정을 할 수 있다. sum과 none등을 선택하여 원하는대로 MSE 손실 함수의 출력값을 얻을 수 있다."
   ]
  },
  {
   "cell_type": "code",
   "execution_count": 7,
   "id": "c82161ca",
   "metadata": {},
   "outputs": [
    {
     "data": {
      "text/plain": [
       "tensor(10.)"
      ]
     },
     "execution_count": 7,
     "metadata": {},
     "output_type": "execute_result"
    }
   ],
   "source": [
    "F.mse_loss(x_hat, x, reduction='sum')"
   ]
  },
  {
   "cell_type": "code",
   "execution_count": 8,
   "id": "fa7dc7c7",
   "metadata": {},
   "outputs": [
    {
     "data": {
      "text/plain": [
       "tensor([[1., 1.],\n",
       "        [4., 4.]])"
      ]
     },
     "execution_count": 8,
     "metadata": {},
     "output_type": "execute_result"
    }
   ],
   "source": [
    "F.mse_loss(x_hat, x, reduction='none')"
   ]
  },
  {
   "cell_type": "markdown",
   "id": "2f83bfa6",
   "metadata": {},
   "source": [
    "### 2. torch.nn 활용하기"
   ]
  },
  {
   "cell_type": "code",
   "execution_count": 9,
   "id": "bd8717d0",
   "metadata": {},
   "outputs": [
    {
     "data": {
      "text/plain": [
       "tensor(2.5000)"
      ]
     },
     "execution_count": 9,
     "metadata": {},
     "output_type": "execute_result"
    }
   ],
   "source": [
    "import torch.nn as nn\n",
    "mse_loss = nn.MSELoss()\n",
    "mse_loss(x_hat, x)"
   ]
  }
 ],
 "metadata": {
  "kernelspec": {
   "display_name": "Python 3 (ipykernel)",
   "language": "python",
   "name": "python3"
  },
  "language_info": {
   "codemirror_mode": {
    "name": "ipython",
    "version": 3
   },
   "file_extension": ".py",
   "mimetype": "text/x-python",
   "name": "python",
   "nbconvert_exporter": "python",
   "pygments_lexer": "ipython3",
   "version": "3.9.13"
  }
 },
 "nbformat": 4,
 "nbformat_minor": 5
}
